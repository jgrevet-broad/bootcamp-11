{
 "cells": [
  {
   "cell_type": "code",
   "execution_count": 3,
   "metadata": {},
   "outputs": [
    {
     "name": "stdout",
     "output_type": "stream",
     "text": [
      "Hello CP Bootcamp\n"
     ]
    }
   ],
   "source": [
    "print(\"Hello CP Bootcamp\")"
   ]
  },
  {
   "cell_type": "markdown",
   "metadata": {},
   "source": [
    "# This is our first markdown heading\n",
    "## This is a smaller heading\n",
    "\n",
    "Here is an example of a \"Markdown\""
   ]
  },
  {
   "cell_type": "code",
   "execution_count": 6,
   "metadata": {},
   "outputs": [
    {
     "name": "stdout",
     "output_type": "stream",
     "text": [
      "Hello CP Bootcamp\n"
     ]
    }
   ],
   "source": [
    "# set boolean variable\n",
    "\n",
    "bootcamp = True\n",
    "\n",
    "# these store the answers to yes/no questions\n",
    "\n",
    "hello = \"Hello\"\n",
    "\n",
    "if bootcamp:\n",
    "    print(hello + \" CP Bootcamp\")\n",
    "else:\n",
    "    print(hello + \" World\")"
   ]
  },
  {
   "cell_type": "code",
   "execution_count": 7,
   "metadata": {},
   "outputs": [],
   "source": [
    "only_LETTERS_4nd_Numb3rs_and_underscores_allowed = True"
   ]
  },
  {
   "cell_type": "code",
   "execution_count": 8,
   "metadata": {},
   "outputs": [
    {
     "name": "stdout",
     "output_type": "stream",
     "text": [
      "True\n",
      "False\n"
     ]
    }
   ],
   "source": [
    "#variables are case sensitive\n",
    "\n",
    "var = True\n",
    "Var = False\n",
    "print(var)\n",
    "print(Var)"
   ]
  },
  {
   "cell_type": "code",
   "execution_count": 9,
   "metadata": {},
   "outputs": [
    {
     "name": "stdout",
     "output_type": "stream",
     "text": [
      "Hello and welcome to the CP Bootcamp at 75 Ames!\n"
     ]
    }
   ],
   "source": [
    "#we can add extra conditions to if/else\n",
    "\n",
    "CP_binney = False\n",
    "\n",
    "if bootcamp and CP_binney:\n",
    "    print(hello + \" and welcome to the CP Bootcamp at 300 Binney!\")\n",
    "elif bootcamp and not CP_binney:\n",
    "    print(hello + \" and welcome to the CP Bootcamp at 75 Ames!\")\n",
    "else:\n",
    "    print(hello + \" World!\")"
   ]
  },
  {
   "cell_type": "code",
   "execution_count": 11,
   "metadata": {},
   "outputs": [
    {
     "name": "stdout",
     "output_type": "stream",
     "text": [
      "Hello and welcome to CP bootcamp at300 binney!\n",
      "Hello and welcome to CP bootcamp at415 main!\n",
      "Hello and welcome to CP bootcamp at75 ames !\n"
     ]
    }
   ],
   "source": [
    "# lets look at loops\n",
    "\n",
    "locations = ['300 binney', '415 main', '75 ames ']\n",
    "\n",
    "for location in locations:\n",
    "    print(hello + ' and welcome to CP bootcamp at' + location + '!')"
   ]
  },
  {
   "cell_type": "code",
   "execution_count": null,
   "metadata": {},
   "outputs": [
    {
     "name": "stdout",
     "output_type": "stream",
     "text": [
      "Helloworld\n",
      "HelloCP Bootcamp, from Lauren\n",
      "HelloCP bootcamp, from David\n"
     ]
    }
   ],
   "source": [
    "# first function\n",
    "\n",
    "def say_hello(greetee, greeter=None):\n",
    "    \"\"\"\n",
    "    This is a docstring for a function\n",
    "    \"\"\"\n",
    "    greeting = \"Hello \" + greetee\n",
    "    if greeter: \n",
    "        greeting += ', from ' + greeter\n",
    "    print(greeting)\n",
    "say_hello('world')\n",
    "say_hello('CP Bootcamp', 'Lauren')\n",
    "say_hello('CP bootcamp', 'David')"
   ]
  },
  {
   "cell_type": "code",
   "execution_count": null,
   "metadata": {},
   "outputs": [],
   "source": [
    "# \"while\" loops allow for additional flexibility by looping until a condition is met\n",
    "\n",
    "import random\n",
    "\n",
    "tally = 0\n",
    "\n",
    "while tally < 50:\n",
    "    print('Current tally: ', tally)\n",
    "    increment = random.randint(0, 5)\n",
    "    print('Next tall increment: ', increment)\n",
    "    tally += increment\n",
    "\n",
    "print('final tally: ', tally)"
   ]
  },
  {
   "cell_type": "markdown",
   "metadata": {},
   "source": [
    "# Numerical datatypes and other packages\n",
    "## Datatypes"
   ]
  },
  {
   "cell_type": "code",
   "execution_count": 16,
   "metadata": {},
   "outputs": [
    {
     "name": "stdout",
     "output_type": "stream",
     "text": [
      "this is a  <class 'int'> with value: 5\n",
      "this is a  <class 'float'> with value: 5\n"
     ]
    }
   ],
   "source": [
    "# numbers\n",
    "my_int = 5\n",
    "my_float = 5.0\n",
    "print('this is a ', type(my_int), \"with value:\", my_int)\n",
    "print('this is a ', type(my_float), \"with value:\", my_int)"
   ]
  },
  {
   "cell_type": "code",
   "execution_count": null,
   "metadata": {},
   "outputs": [
    {
     "name": "stdout",
     "output_type": "stream",
     "text": [
      "2\n",
      "10\n",
      "7\n",
      "4\n",
      "100\n",
      "0.01\n"
     ]
    },
    {
     "data": {
      "text/plain": [
       "int"
      ]
     },
     "execution_count": 18,
     "metadata": {},
     "output_type": "execute_result"
    }
   ],
   "source": [
    "print(1+1)\n",
    "print(2*5)\n",
    "\n",
    "print(2*5-3)\n",
    "print(2*(5-3))\n",
    "\n",
    "print(10**2)\n",
    "print(10**-2)\n"
   ]
  },
  {
   "cell_type": "code",
   "execution_count": 19,
   "metadata": {},
   "outputs": [
    {
     "name": "stdout",
     "output_type": "stream",
     "text": [
      "False\n",
      "True\n"
     ]
    }
   ],
   "source": [
    "# warning: be careful when checking equelity with floats\n",
    "# second thought: don't do it\n",
    "\n",
    "print(0.1 + 0.2 == 0.3)\n",
    "print(0.1 + 0.3 == 0.2 + 0.2)"
   ]
  },
  {
   "cell_type": "code",
   "execution_count": 20,
   "metadata": {},
   "outputs": [
    {
     "name": "stdout",
     "output_type": "stream",
     "text": [
      "False\n",
      "True\n"
     ]
    }
   ],
   "source": [
    "# for safety, specify a tolerance\n",
    "tol = 10**-10\n",
    "\n",
    "print(0.1 + 0.2 - 0.3 == 0)\n",
    "print(0.1 + 0.2 - 0.3 < tol)"
   ]
  },
  {
   "cell_type": "code",
   "execution_count": 21,
   "metadata": {},
   "outputs": [
    {
     "name": "stdout",
     "output_type": "stream",
     "text": [
      " this is a string\n"
     ]
    }
   ],
   "source": [
    "# strings\n",
    "print(' this is a string')"
   ]
  },
  {
   "cell_type": "code",
   "execution_count": 22,
   "metadata": {},
   "outputs": [
    {
     "name": "stdout",
     "output_type": "stream",
     "text": [
      "thisisastring\n"
     ]
    }
   ],
   "source": [
    "print('this' + 'is' + 'a' + 'string')"
   ]
  },
  {
   "cell_type": "code",
   "execution_count": 24,
   "metadata": {},
   "outputs": [
    {
     "name": "stdout",
     "output_type": "stream",
     "text": [
      "i\n",
      "this is a string\n"
     ]
    }
   ],
   "source": [
    "s = 'this is a string for slicing'\n",
    "print(s[5])\n",
    "print(s[:16])\n"
   ]
  },
  {
   "cell_type": "code",
   "execution_count": 25,
   "metadata": {},
   "outputs": [
    {
     "name": "stdout",
     "output_type": "stream",
     "text": [
      "['a', 1, 0.3, None, ['a', 'b']]\n"
     ]
    }
   ],
   "source": [
    "# lists\n",
    "# lists can contain any type of data in any combination\n",
    "# note that lists are useful but slow\n",
    "\n",
    "l = ['a', 1, 0.3, None, ['a', 'b']]\n",
    "print(l)"
   ]
  },
  {
   "cell_type": "code",
   "execution_count": 32,
   "metadata": {},
   "outputs": [
    {
     "name": "stdout",
     "output_type": "stream",
     "text": [
      "[0, 1, 2, 3, 4, 5, 6, 7, 8, 9, 10, 11, 12, 13, 14, 15, 16, 17, 18, 19, 20, 21, 22, 23, 24, 25, 26, 27, 28, 29, 30, 31, 32, 33, 34, 35, 36, 37, 38, 39, 40, 41, 42, 43, 44, 45, 46, 47, 48, 49]\n",
      "0\n",
      "[0, 1, 2, 3, 4, 5, 6, 7, 8, 9]\n",
      "49\n",
      "[0, 2, 4, 6, 8, 10, 12, 14, 16, 18, 20, 22, 24, 26, 28, 30, 32, 34, 36, 38, 40, 42, 44, 46, 48]\n",
      "[49, 48, 47, 46, 45, 44, 43, 42, 41, 40, 39, 38, 37, 36, 35, 34, 33, 32, 31, 30, 29, 28, 27, 26, 25, 24, 23, 22, 21, 20, 19, 18, 17, 16, 15, 14, 13, 12, 11, 10, 9, 8, 7, 6, 5, 4, 3, 2, 1, 0]\n"
     ]
    }
   ],
   "source": [
    "# python indexing is quite flexible\n",
    "\n",
    "nums = list(range(50))\n",
    "print(nums)\n",
    "print(nums[0])\n",
    "print(nums[:10])\n",
    "print(nums[-1])\n",
    "print(nums[::2])\n",
    "print(nums[::-1])"
   ]
  },
  {
   "cell_type": "code",
   "execution_count": null,
   "metadata": {},
   "outputs": [
    {
     "name": "stdout",
     "output_type": "stream",
     "text": [
      "[[4, 5, 6], [7, 8, 9], [10, 11, 12]]\n",
      "[10, 11, 12]\n",
      "11\n"
     ]
    },
    {
     "data": {
      "text/plain": [
       "[2, 5, 8, 11, 14]"
      ]
     },
     "execution_count": 37,
     "metadata": {},
     "output_type": "execute_result"
    }
   ],
   "source": [
    "# lists nest in an obvious way\n",
    "\n",
    "nested_list = [[1,2,3], [4,5,6], [7,8,9], [10,11,12],[13,14,15]]\n",
    "print(nested_list[1:4])\n",
    "print(nested_list[3])\n",
    "print(nested_list[3][1])\n",
    "[l[1] for l in nested_list]"
   ]
  },
  {
   "cell_type": "code",
   "execution_count": 39,
   "metadata": {},
   "outputs": [
    {
     "name": "stdout",
     "output_type": "stream",
     "text": [
      "[0, 2, 4, 6, 8, 10, 12, 14, 16, 18]\n",
      "[0, -1, 2, -3, 4, -5, 6, -7, 8, -9, 10, -11, 12, -13, 14, -15, 16, -17, 18, -19]\n"
     ]
    }
   ],
   "source": [
    "print([i for i in range(20) if (i%2 == 0)])\n",
    "print([i if (i%2 == 0) else -i for i in range(20)])"
   ]
  },
  {
   "cell_type": "code",
   "execution_count": 40,
   "metadata": {},
   "outputs": [
    {
     "name": "stdout",
     "output_type": "stream",
     "text": [
      "[[1, 2, 3], [4, 5, 6], [7, 8, 9], [10, 11, 12], [13, 14, 15]]\n",
      "[[1, 2, 3], [4, 5, 6], [7, 8, 9], [10, 11, 12], 'oops!']\n"
     ]
    }
   ],
   "source": [
    "print(nested_list)\n",
    "nested_list[-1] = 'oops!'\n",
    "print(nested_list)"
   ]
  },
  {
   "cell_type": "code",
   "execution_count": 41,
   "metadata": {},
   "outputs": [
    {
     "name": "stdout",
     "output_type": "stream",
     "text": [
      "[[0, 1], [2, 3], [4, 5], [6, 7], [8, 9], [10, 11], [12, 13], [14, 15], [16, 17], [18, 19]]\n"
     ]
    }
   ],
   "source": [
    "# be careful when dealing with list elements\n",
    "\n",
    "new_test_list = [[i, i+1] for i in range(20) if (i%2 == 0)]\n",
    "print(new_test_list)"
   ]
  },
  {
   "cell_type": "code",
   "execution_count": 42,
   "metadata": {},
   "outputs": [
    {
     "name": "stdout",
     "output_type": "stream",
     "text": [
      "[[0, 1], [2, 3], [4, 5], [6, 7], [8, 9], ['oops!', 11], [12, 13], [14, 15], [16, 17], [18, 19]]\n"
     ]
    }
   ],
   "source": [
    "test_element = new_test_list[5]\n",
    "test_element[0] = 'oops!'\n",
    "print(new_test_list)"
   ]
  },
  {
   "cell_type": "code",
   "execution_count": null,
   "metadata": {},
   "outputs": [
    {
     "name": "stdout",
     "output_type": "stream",
     "text": [
      "(0, 1, 2, 3, 4)\n"
     ]
    },
    {
     "ename": "TypeError",
     "evalue": "'tuple' object does not support item assignment",
     "output_type": "error",
     "traceback": [
      "\u001b[0;31m---------------------------------------------------------------------------\u001b[0m",
      "\u001b[0;31mTypeError\u001b[0m                                 Traceback (most recent call last)",
      "Cell \u001b[0;32mIn[43], line 5\u001b[0m\n\u001b[1;32m      3\u001b[0m test_tuple \u001b[38;5;241m=\u001b[39m \u001b[38;5;28mtuple\u001b[39m(\u001b[38;5;28mrange\u001b[39m(\u001b[38;5;241m5\u001b[39m))\n\u001b[1;32m      4\u001b[0m \u001b[38;5;28mprint\u001b[39m(test_tuple)\n\u001b[0;32m----> 5\u001b[0m \u001b[43mtest_tuple\u001b[49m\u001b[43m[\u001b[49m\u001b[38;5;241;43m2\u001b[39;49m\u001b[43m]\u001b[49m \u001b[38;5;241m=\u001b[39m \u001b[38;5;241m-\u001b[39m\u001b[38;5;241m1\u001b[39m\n",
      "\u001b[0;31mTypeError\u001b[0m: 'tuple' object does not support item assignment"
     ]
    }
   ],
   "source": [
    "# tuples are like lists but are immutable\n",
    "\n",
    "test_tuple = tuple(range(5))\n",
    "print(test_tuple)\n",
    "test_tuple[2] = -1"
   ]
  },
  {
   "cell_type": "code",
   "execution_count": 44,
   "metadata": {},
   "outputs": [
    {
     "name": "stdout",
     "output_type": "stream",
     "text": [
      "(0, 10, 2)\n"
     ]
    }
   ],
   "source": [
    "# useful for indexing and function arguments\n",
    "function_args = (0,10,2)\n",
    "print(function_args)"
   ]
  },
  {
   "cell_type": "code",
   "execution_count": 46,
   "metadata": {},
   "outputs": [
    {
     "name": "stdout",
     "output_type": "stream",
     "text": [
      "<class 'tuple'>\n"
     ]
    }
   ],
   "source": [
    "print(type(function_args))"
   ]
  },
  {
   "cell_type": "code",
   "execution_count": 47,
   "metadata": {},
   "outputs": [
    {
     "name": "stdout",
     "output_type": "stream",
     "text": [
      "[0, 2, 4, 6, 8]\n"
     ]
    }
   ],
   "source": [
    "# tuples can be \"unenrolled\" with the star operator into function args\n",
    "print(list(range(*function_args)))"
   ]
  },
  {
   "cell_type": "code",
   "execution_count": 49,
   "metadata": {},
   "outputs": [
    {
     "data": {
      "text/plain": [
       "{(0, 0): ['test']}"
      ]
     },
     "execution_count": 49,
     "metadata": {},
     "output_type": "execute_result"
    }
   ],
   "source": [
    "# dictionaries\n",
    "test_dict = dict()\n",
    "test_dict[(0,0)] = ['test']\n",
    "test_dict"
   ]
  },
  {
   "cell_type": "code",
   "execution_count": 50,
   "metadata": {},
   "outputs": [
    {
     "name": "stdout",
     "output_type": "stream",
     "text": [
      "{(0, 0): 0, (0, 1): 0, (0, 2): 0, (0, 3): 0, (1, 0): 0, (1, 1): 1, (1, 2): 2, (1, 3): 3, (2, 0): 0, (2, 1): 2, (2, 2): 4, (2, 3): 6}\n"
     ]
    }
   ],
   "source": [
    "print({(a,b): a*b for a in range(3) for b in range(4)})"
   ]
  },
  {
   "cell_type": "markdown",
   "metadata": {},
   "source": [
    "# Types associated with common packages"
   ]
  },
  {
   "cell_type": "code",
   "execution_count": 51,
   "metadata": {},
   "outputs": [],
   "source": [
    "import numpy as np"
   ]
  },
  {
   "cell_type": "code",
   "execution_count": 52,
   "metadata": {},
   "outputs": [
    {
     "name": "stdout",
     "output_type": "stream",
     "text": [
      "[1. 1. 1. ... 1. 1. 1.]\n",
      "[   0    1    2 ... 9997 9998 9999]\n",
      "6.1 μs ± 204 ns per loop (mean ± std. dev. of 7 runs, 100,000 loops each)\n"
     ]
    }
   ],
   "source": [
    "array_1 = np.ones(10**4)\n",
    "print(array_1)\n",
    "array_2 = np.arange(10**4)\n",
    "print(array_2)\n",
    "%timeit array_1+1.5*array_2"
   ]
  },
  {
   "cell_type": "code",
   "execution_count": 54,
   "metadata": {},
   "outputs": [
    {
     "name": "stdout",
     "output_type": "stream",
     "text": [
      "297 μs ± 7.13 μs per loop (mean ± std. dev. of 7 runs, 1,000 loops each)\n"
     ]
    }
   ],
   "source": [
    "# lets try this with lists\n",
    "list_1 = [1]*10**4\n",
    "list_2 = list(range(10**4))\n",
    "%timeit [list_1[i] + 1.5*list_2[i] for i in range (10**4)]"
   ]
  }
 ],
 "metadata": {
  "kernelspec": {
   "display_name": "bootcamp",
   "language": "python",
   "name": "python3"
  },
  "language_info": {
   "codemirror_mode": {
    "name": "ipython",
    "version": 3
   },
   "file_extension": ".py",
   "mimetype": "text/x-python",
   "name": "python",
   "nbconvert_exporter": "python",
   "pygments_lexer": "ipython3",
   "version": "3.11.11"
  }
 },
 "nbformat": 4,
 "nbformat_minor": 2
}
