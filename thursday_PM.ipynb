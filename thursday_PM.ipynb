{
 "cells": [
  {
   "cell_type": "code",
   "execution_count": null,
   "metadata": {},
   "outputs": [],
   "source": [
    "import numpy as np\n",
    "import pandas as pd\n",
    "import matplotlib.pyplot as plt\n",
    "import seaborn as sns\n",
    "import plotly_express as px\n",
    "from taigapy import create_taiga_client_v3\n",
    "\n",
    "tc = create_taiga_client_v3()"
   ]
  },
  {
   "cell_type": "code",
   "execution_count": null,
   "metadata": {},
   "outputs": [],
   "source": [
    "prism_auc = tc.get('internal-24q4-8c04.117/PRISMOncologyReferenceAUCMatrix')"
   ]
  },
  {
   "cell_type": "code",
   "execution_count": null,
   "metadata": {},
   "outputs": [],
   "source": [
    "prism_auc"
   ]
  },
  {
   "cell_type": "code",
   "execution_count": null,
   "metadata": {},
   "outputs": [],
   "source": [
    "hs_mutations = tc.get('internal-24q4-8c04.117/OmicsSomaticMutationsMatrixHotspot')"
   ]
  },
  {
   "cell_type": "code",
   "execution_count": null,
   "metadata": {},
   "outputs": [],
   "source": [
    "hs_mutations"
   ]
  },
  {
   "cell_type": "code",
   "execution_count": null,
   "metadata": {},
   "outputs": [],
   "source": [
    "expr = tc.get('internal-24q4-8c04.117/OmicsExpressionProteinCodingGenesTPMLogp1BatchCorrected')"
   ]
  },
  {
   "cell_type": "code",
   "execution_count": null,
   "metadata": {},
   "outputs": [],
   "source": [
    "portal_compounds = tc.get('internal-24q4-8c04.117/PortalCompounds')"
   ]
  },
  {
   "cell_type": "code",
   "execution_count": null,
   "metadata": {},
   "outputs": [],
   "source": [
    "portal_compounds"
   ]
  },
  {
   "cell_type": "code",
   "execution_count": null,
   "metadata": {},
   "outputs": [],
   "source": [
    "compounds_exploded = portal_compounds[['CompoundID','SampleIDs']\n",
    "                                        ].set_index('CompoundID').SampleIDs.str.split(';').explode()\n",
    "\n",
    "compounds_exploded"
   ]
  },
  {
   "cell_type": "code",
   "execution_count": null,
   "metadata": {},
   "outputs": [],
   "source": [
    "comp_meta_expl = (\n",
    "        portal_compounds.drop('SampleIDs', axis =1)\n",
    "        .merge(compounds_exploded.rename('SampleID'), left_on='CompoundID', right_index=True)\n",
    "\n",
    ")\n",
    "\n",
    "comp_meta_expl"
   ]
  },
  {
   "cell_type": "code",
   "execution_count": null,
   "metadata": {},
   "outputs": [],
   "source": [
    "prism_compounds = comp_meta_expl[comp_meta_expl.SampleID.str.startswith('BRD')]\n",
    "prism_compounds['SampleID'] = prism_compounds.SampleID.str.extract(r'BRD:([A-Za-z0-9\\-]+)')[0]\n",
    "oncref_compounds = prism_compounds[prism_compounds.SampleID.str.startswith('PRC')]\n",
    "oncref_compounds\n",
    "                                   "
   ]
  },
  {
   "cell_type": "code",
   "execution_count": null,
   "metadata": {},
   "outputs": [],
   "source": [
    "mdm_inhib = oncref_compounds[~oncref_compounds.GeneSymbolOfTargets.isna() &\n",
    "                 oncref_compounds.GeneSymbolOfTargets.str.contains('MDM')].SampleID\n",
    "\n",
    "mdm_inhib"
   ]
  },
  {
   "cell_type": "code",
   "execution_count": null,
   "metadata": {},
   "outputs": [],
   "source": [
    "hs_mutations['TP53 (7157)']>0"
   ]
  },
  {
   "cell_type": "code",
   "execution_count": null,
   "metadata": {},
   "outputs": [],
   "source": [
    "mdm_data = (\n",
    "    prism_auc[mdm_inhib].melt(value_vars=mdm_inhib.to_list(),ignore_index=False).reset_index()\n",
    "    .rename(columns={'index':'ModelID','variable':'PRC_ID','value':'AUC'})\n",
    "    .dropna().merge(oncref_compounds[oncref_compounds.SampleID.isin(mdm_inhib)],\n",
    "                   left_on = 'PRC_ID', right_on='SampleID')\n",
    "    .merge((hs_mutations['TP53 (7157)']>0), left_on = 'ModelID', right_index = True)\n",
    "    .merge(expr['MDM2 (4193)'],left_on = 'ModelID', right_index = True)\n",
    "    .rename(columns={'TP53 (7157)': 'TP53_mut', 'MDM2 (4193)': 'MDM2_expr'})\n",
    "\n",
    ")\n",
    "\n",
    "mdm_data"
   ]
  },
  {
   "cell_type": "code",
   "execution_count": null,
   "metadata": {},
   "outputs": [],
   "source": [
    "g = sns.FacetGrid(mdm_data,col='CompoundName', col_wrap=3, hue='TP53_mut')\n",
    "g.map(sns.scatterplot,'MDM2_expr', 'AUC')"
   ]
  },
  {
   "cell_type": "code",
   "execution_count": null,
   "metadata": {},
   "outputs": [],
   "source": [
    "sns.lmplot(data=mdm_data, col='CompoundName', hue='TP53_mut', x='MDM2_expr', y='AUC')"
   ]
  },
  {
   "cell_type": "code",
   "execution_count": null,
   "metadata": {},
   "outputs": [],
   "source": [
    "hs_mutations"
   ]
  },
  {
   "cell_type": "code",
   "execution_count": null,
   "metadata": {},
   "outputs": [],
   "source": [
    "gene = tc.get('internal-24q4-8c04.117/Gene')"
   ]
  },
  {
   "cell_type": "code",
   "execution_count": null,
   "metadata": {},
   "outputs": [],
   "source": []
  },
  {
   "cell_type": "code",
   "execution_count": null,
   "metadata": {},
   "outputs": [],
   "source": [
    "# Note here Int64 is a nullable integer which allows for NA and Inf values\n",
    "\n",
    "gene['depmap'] = gene.symbol + ' (' + gene.entrez_id.astype('Int64').astype(str) + ')'"
   ]
  },
  {
   "cell_type": "code",
   "execution_count": null,
   "metadata": {},
   "outputs": [],
   "source": [
    "gene[['ensembl_gene_id', 'depmap']].set_index('depmap')['ensembl_gene_id']"
   ]
  },
  {
   "cell_type": "code",
   "execution_count": null,
   "metadata": {},
   "outputs": [],
   "source": [
    "hs_mutations.columns = (\n",
    "    hs_mutations.columns.map(gene[['ensembl_gene_id', 'depmap']]\n",
    "    .set_index('depmap')['ensembl_gene_id'])\n",
    "\n",
    ")"
   ]
  },
  {
   "cell_type": "code",
   "execution_count": null,
   "metadata": {},
   "outputs": [],
   "source": [
    "hs_mutations"
   ]
  },
  {
   "cell_type": "code",
   "execution_count": null,
   "metadata": {},
   "outputs": [],
   "source": [
    "gene[['ensembl_gene_id', 'depmap']].set_index('depmap')['ensembl_gene_id']"
   ]
  },
  {
   "cell_type": "markdown",
   "metadata": {},
   "source": [
    "# Coocccuring mutations"
   ]
  },
  {
   "cell_type": "code",
   "execution_count": null,
   "metadata": {},
   "outputs": [],
   "source": [
    "hs_mutations = tc.get('internal-24q4-8c04.117/OmicsSomaticMutationsMatrixHotspot')"
   ]
  },
  {
   "cell_type": "code",
   "execution_count": null,
   "metadata": {},
   "outputs": [],
   "source": [
    "hs_mutations.columns = hs_mutations.columns.str.extract((r'([A-Za-z0-9\\-]+) '))[0]"
   ]
  },
  {
   "cell_type": "code",
   "execution_count": null,
   "metadata": {},
   "outputs": [],
   "source": [
    "hs_mutations"
   ]
  },
  {
   "cell_type": "code",
   "execution_count": null,
   "metadata": {},
   "outputs": [],
   "source": [
    "kras_egfr = hs_mutations[['KRAS', 'EGFR']]"
   ]
  },
  {
   "cell_type": "code",
   "execution_count": null,
   "metadata": {},
   "outputs": [],
   "source": [
    "kras_egfr"
   ]
  },
  {
   "cell_type": "code",
   "execution_count": null,
   "metadata": {},
   "outputs": [],
   "source": [
    "kras_egfr = kras_egfr > 0"
   ]
  },
  {
   "cell_type": "code",
   "execution_count": null,
   "metadata": {},
   "outputs": [],
   "source": [
    "from scipy import stats"
   ]
  },
  {
   "cell_type": "code",
   "execution_count": null,
   "metadata": {},
   "outputs": [],
   "source": [
    "c_tab = kras_egfr.value_counts().reset_index().pivot(index='KRAS',columns='EGFR').fillna(0)\n",
    "c_tab"
   ]
  },
  {
   "cell_type": "code",
   "execution_count": null,
   "metadata": {},
   "outputs": [],
   "source": [
    "ftest = stats.fisher_exact()"
   ]
  },
  {
   "cell_type": "code",
   "execution_count": null,
   "metadata": {},
   "outputs": [],
   "source": [
    "hs_mutations = hs_mutations > 0"
   ]
  },
  {
   "cell_type": "code",
   "execution_count": null,
   "metadata": {},
   "outputs": [],
   "source": [
    "hf_muts = hs_mutations.loc[:, hs_mutations.sum() > 4]"
   ]
  },
  {
   "cell_type": "code",
   "execution_count": null,
   "metadata": {},
   "outputs": [],
   "source": [
    "def contingency_mat(gene_1, gene_2, muts):\n",
    "    out = (muts[[gene_2, gene_1]].value_counts().reset_index().pivot(index = gene_1, columns = gene_2))\n",
    "    out = out.fillna(0).astype(int)\n",
    "    out.index = [gene_1 + '_WT', gene_1+'_MUT']\n",
    "    out.columns = [gene_2 + '_WT', gene_2+'_MUT']\n",
    "    return out\n",
    "    "
   ]
  },
  {
   "cell_type": "code",
   "execution_count": null,
   "metadata": {},
   "outputs": [],
   "source": [
    "contingency_mat('EGFR', 'KRAS', hf_muts)"
   ]
  },
  {
   "cell_type": "code",
   "execution_count": null,
   "metadata": {},
   "outputs": [],
   "source": [
    "contingency_mat('EGFR', 'PTEN', hf_muts)"
   ]
  },
  {
   "cell_type": "code",
   "execution_count": null,
   "metadata": {},
   "outputs": [],
   "source": [
    "def is_powered(gene_1, gene_2, mut):\n",
    "    mat = contingency_mat(gene_1, gene_2, mut)\n",
    "    tested = stats.fisher_exact(mat)\n",
    "    out = pd.DataFrame(data = [[tested.statistic, tested.pvalue]],\n",
    "                       columns = ['odds_ratio', 'pval'], index = [[gene_1], [gene_2]])\n",
    "    return out"
   ]
  },
  {
   "cell_type": "code",
   "execution_count": null,
   "metadata": {},
   "outputs": [],
   "source": [
    "is_powered('BRAF', 'PTEN', hf_muts)"
   ]
  },
  {
   "cell_type": "code",
   "execution_count": null,
   "metadata": {},
   "outputs": [],
   "source": [
    "gene_pair_result = []\n",
    "\n",
    "for gene_1, gene_2 in pd.MultiIndex.from_product([hf_muts.columns, hf_muts.columns]):\n",
    "    if gene_1 == gene_2:\n",
    "        continue\n",
    "    gene_pair_result.append(is_powered(gene_1, gene_2, hf_muts))\n",
    "\n",
    "df_cooc_results = pd.concat(gene_pair_result)\n",
    "df_cooc_results['qval'] = stats.false_discovery_control(df_cooc_results.pval)"
   ]
  },
  {
   "cell_type": "code",
   "execution_count": null,
   "metadata": {},
   "outputs": [],
   "source": [
    "df_cooc_results"
   ]
  },
  {
   "cell_type": "code",
   "execution_count": null,
   "metadata": {},
   "outputs": [],
   "source": [
    "df_cooc_results['log_q'] = -df_cooc_results.qval.apply(np.log10)\n",
    "df_cooc_results['log_odds'] = df_cooc_results.odds_ratio.apply(np.log2)\n",
    "df_cooc_results['highlight'] = (df_cooc_results.odds_ratio > 300) | (df_cooc_results.qval < 0.2)"
   ]
  },
  {
   "cell_type": "code",
   "execution_count": null,
   "metadata": {},
   "outputs": [],
   "source": [
    "sns.scatterplot(data=df_cooc_results, x = 'log_odds', y ='log_q', hue = 'highlight')"
   ]
  },
  {
   "cell_type": "code",
   "execution_count": null,
   "metadata": {},
   "outputs": [],
   "source": [
    "px.scatter(df_cooc_results, x='log_odds', y='log_q', color='highlight')"
   ]
  },
  {
   "cell_type": "markdown",
   "metadata": {},
   "source": [
    "# CRISPR Drug associations"
   ]
  },
  {
   "cell_type": "code",
   "execution_count": null,
   "metadata": {},
   "outputs": [],
   "source": [
    "crispr = tc.get('internal-24q4-8c04.117/CRISPRGeneEffect')"
   ]
  },
  {
   "cell_type": "code",
   "execution_count": null,
   "metadata": {},
   "outputs": [],
   "source": [
    "crispr"
   ]
  },
  {
   "cell_type": "code",
   "execution_count": null,
   "metadata": {},
   "outputs": [],
   "source": [
    "crispr.head()"
   ]
  },
  {
   "cell_type": "code",
   "execution_count": null,
   "metadata": {},
   "outputs": [],
   "source": [
    "crispr.isna().any(axis = 0).mean(), crispr.isna().any(axis = 1).mean()"
   ]
  },
  {
   "cell_type": "code",
   "execution_count": null,
   "metadata": {},
   "outputs": [],
   "source": [
    "sns.heatmap(crispr.isna())"
   ]
  },
  {
   "cell_type": "code",
   "execution_count": null,
   "metadata": {},
   "outputs": [],
   "source": [
    "prism_auc.isna().any(axis = 0).mean(), prism_auc.isna().any(axis = 1).mean()"
   ]
  },
  {
   "cell_type": "code",
   "execution_count": null,
   "metadata": {},
   "outputs": [],
   "source": [
    "crispr.shape"
   ]
  },
  {
   "cell_type": "code",
   "execution_count": null,
   "metadata": {},
   "outputs": [],
   "source": [
    "prism_auc.shape"
   ]
  },
  {
   "cell_type": "code",
   "execution_count": null,
   "metadata": {},
   "outputs": [],
   "source": [
    "sns.heatmap(prism_auc.isna())"
   ]
  },
  {
   "cell_type": "code",
   "execution_count": null,
   "metadata": {},
   "outputs": [],
   "source": [
    "sns.clustermap(prism_auc.isna())"
   ]
  },
  {
   "cell_type": "code",
   "execution_count": null,
   "metadata": {},
   "outputs": [],
   "source": [
    "sns.clustermap(prism_auc.dropna(axis = 0, thresh = (len(prism_auc.columns)-5)).isna())"
   ]
  },
  {
   "cell_type": "code",
   "execution_count": null,
   "metadata": {},
   "outputs": [],
   "source": [
    "prism_filtered = prism_auc.dropna(axis=0, thresh=len(prism_auc.columns) - 5)\n",
    "prism_filtered = prism_filtered.dropna(axis=1)"
   ]
  },
  {
   "cell_type": "code",
   "execution_count": null,
   "metadata": {},
   "outputs": [],
   "source": [
    "prism_filtered.isna().any(axis = 0).sum(), prism_filtered.isna().any(axis = 1).sum()"
   ]
  },
  {
   "cell_type": "code",
   "execution_count": null,
   "metadata": {},
   "outputs": [],
   "source": [
    "crispr = crispr.dropna(axis=1)"
   ]
  },
  {
   "cell_type": "code",
   "execution_count": null,
   "metadata": {},
   "outputs": [],
   "source": [
    "crispr.head()"
   ]
  },
  {
   "cell_type": "code",
   "execution_count": null,
   "metadata": {},
   "outputs": [],
   "source": [
    "pd.concat([crispr, prism_filtered], axis = 1).dropna(axis=0).corr()"
   ]
  },
  {
   "cell_type": "code",
   "execution_count": null,
   "metadata": {},
   "outputs": [],
   "source": [
    "pd.concat([crispr, prism_filtered], axis = 1)"
   ]
  },
  {
   "cell_type": "code",
   "execution_count": null,
   "metadata": {},
   "outputs": [],
   "source": [
    "def subset_corr(mat, idxs_0, idxs_1):\n",
    "    d = mat.to_numpy()\n",
    "    sums = d.sum(0, keepdims=True)\n",
    "    stds = d.std(0, keepdims=True)\n",
    "    n = d.shape[0]\n",
    "\n",
    "    k=len(idxs_0)\n",
    "    l=len(idxs_0.union(idxs_1))\n",
    "    d2 = d[:, :k].T.dot(d[:, k:l])\n",
    "    sums2 = sums[:, :k].T.dot(sums[:, k:l])\n",
    "    stds2 = sums[:, :k].T.dot(stds[:, k:l])\n",
    "\n",
    "    out = pd.DataFrame((d2 - sums2 / n) / stds2 / n, mat.columns[:k], mat.columns[k:l])\n",
    "\n",
    "    return out\n",
    "                "
   ]
  },
  {
   "cell_type": "code",
   "execution_count": null,
   "metadata": {},
   "outputs": [],
   "source": [
    "corr_output = subset_corr(pd.concat([crispr, prism_filtered], axis = 1).dropna(axis=0),\n",
    "               crispr.columns, \n",
    "               prism_filtered.columns)"
   ]
  },
  {
   "cell_type": "code",
   "execution_count": null,
   "metadata": {},
   "outputs": [],
   "source": [
    "corr_output"
   ]
  },
  {
   "cell_type": "code",
   "execution_count": null,
   "metadata": {},
   "outputs": [],
   "source": [
    "# Rank each gene by how correlated it is with each drug\n",
    "\n",
    "gene_ranks = corr_output.rank(axis=1, ascending=False)\n",
    "\n",
    "drug_ranks = corr_output.rank(axis=0, ascending=False)\n"
   ]
  },
  {
   "cell_type": "code",
   "execution_count": null,
   "metadata": {},
   "outputs": [],
   "source": [
    "oncref_compounds[(oncref_compounds.GeneSymbolOfTargets.str.contains('BRAF')) \n",
    "                 & oncref_compounds.SampleID.isin(prism_filtered.columns)]"
   ]
  },
  {
   "cell_type": "code",
   "execution_count": null,
   "metadata": {},
   "outputs": [],
   "source": [
    "gene_ranks['PRC-004799305-255-84'].sort_values(ascending=True)"
   ]
  },
  {
   "cell_type": "code",
   "execution_count": null,
   "metadata": {},
   "outputs": [],
   "source": []
  }
 ],
 "metadata": {
  "kernelspec": {
   "display_name": "bootcamp",
   "language": "python",
   "name": "python3"
  },
  "language_info": {
   "codemirror_mode": {
    "name": "ipython",
    "version": 3
   },
   "file_extension": ".py",
   "mimetype": "text/x-python",
   "name": "python",
   "nbconvert_exporter": "python",
   "pygments_lexer": "ipython3",
   "version": "3.11.11"
  }
 },
 "nbformat": 4,
 "nbformat_minor": 2
}
